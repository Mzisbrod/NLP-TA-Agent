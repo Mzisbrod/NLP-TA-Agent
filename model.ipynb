{
 "cells": [
  {
   "cell_type": "code",
   "execution_count": 1,
   "id": "fbc69b01",
   "metadata": {},
   "outputs": [
    {
     "name": "stdout",
     "output_type": "stream",
     "text": [
      "Requirement already satisfied: sentencepiece in /opt/conda/lib/python3.7/site-packages (0.2.0)\r\n"
     ]
    }
   ],
   "source": [
    "!pip install sentencepiece"
   ]
  },
  {
   "cell_type": "code",
   "execution_count": 2,
   "id": "e83b3960",
   "metadata": {},
   "outputs": [
    {
     "name": "stdout",
     "output_type": "stream",
     "text": [
      "Input Text: Homework 1. Question 1: Extracting n-grams from a sentence. Complete the function get_ngrams, which takes a list of strings and an integer n as input, and returns padded n-grams over the list of strings. The result should be a list of Python tuples. For example: >>> get_ngrams([\"natural\",\"language\",\"processing\"],1) [('START',), ('natural',), ('language',), ('processing',), ('STOP',)] >>> get_ngrams([\"natural\",\"language\",\"processing\"],2) ('START', 'natural'), ('natural', 'language'), ('language', 'processing\n",
      "Expected Output Text: '), ('processing', 'STOP')] >>> get_ngrams([\"natural\",\"language\",\"processing\"],3) [('START', 'START', 'natural'), ('START', 'natural', 'language'), ('natural', 'language', 'processing'), ('language', 'processing', 'STOP')]. Question 2: Counting n-grams in a corpus. We will work with two different data sets. The first data set is the Brown corpus, which is a sample of American written English collected in the 1950s. The format of the data is a plain text file brown_train.txt, containing one sentence per line\n",
      "Epoch 1, Average Loss: 4.5059\n",
      "Epoch 2, Average Loss: 1.2023\n",
      "Epoch 3, Average Loss: 1.0796\n",
      "Epoch 4, Average Loss: 0.9980\n",
      "Epoch 5, Average Loss: 0.9327\n",
      "Epoch 6, Average Loss: 0.8832\n",
      "Epoch 7, Average Loss: 0.8385\n",
      "Epoch 8, Average Loss: 0.7958\n",
      "Epoch 9, Average Loss: 0.7648\n",
      "Epoch 10, Average Loss: 0.7327\n"
     ]
    }
   ],
   "source": [
    "import torch\n",
    "from transformers import T5Tokenizer, T5ForConditionalGeneration\n",
    "from datasets import Dataset\n",
    "from torch.utils.data import DataLoader\n",
    "import json\n",
    "from torch.cuda.amp import GradScaler, autocast\n",
    "\n",
    "torch.cuda.empty_cache()  # Clear CUDA cache\n",
    "\n",
    "class TextCompletionDataset(Dataset):\n",
    "    def __init__(self, data, tokenizer, max_length=512):\n",
    "        self.tokenizer = tokenizer\n",
    "        self.max_length = max_length\n",
    "        self.data_pairs = self.prepare_data(data, tokenizer, max_length)\n",
    "\n",
    "    def prepare_data(self, data, tokenizer, max_length):\n",
    "        input_output_pairs = []\n",
    "        for idx, text in enumerate(data):\n",
    "            # Split text into chunks of max_length\n",
    "            chunks = [text[i:i+max_length] for i in range(0, len(text), max_length)]\n",
    "            for chunk_idx, chunk in enumerate(chunks):\n",
    "                if chunk_idx < len(chunks) - 1:\n",
    "                    # For intermediate chunks, the output is the next chunk\n",
    "                    input_text = chunk\n",
    "                    output_text = chunks[chunk_idx + 1]\n",
    "                    output_tokens = tokenizer.encode(output_text, add_special_tokens=False)\n",
    "                else:\n",
    "                    # For the last chunk, there's no output\n",
    "                    continue\n",
    "                # Tokenize input text\n",
    "                input_tokens = tokenizer.encode(input_text, add_special_tokens=True)\n",
    "                input_output_pairs.append((input_tokens, output_tokens))\n",
    "        return input_output_pairs\n",
    "\n",
    "    def __getitem__(self, idx):\n",
    "        input_tokens, output_tokens = self.data_pairs[idx]\n",
    "        # Handling tensors directly if working with IDs\n",
    "        input_ids = torch.tensor(input_tokens, dtype=torch.long)\n",
    "        labels = torch.tensor(output_tokens, dtype=torch.long)\n",
    "        attention_mask = torch.ones(len(input_ids), dtype=torch.long)  # Create a mask of 1s for attention\n",
    "        # Ensure all tensors are padded to the max length\n",
    "        input_ids = torch.cat([input_ids, torch.zeros(self.max_length - len(input_ids), dtype=torch.long)])\n",
    "        attention_mask = torch.cat([attention_mask, torch.zeros(self.max_length - len(attention_mask), dtype=torch.long)])\n",
    "        labels = torch.cat([labels, torch.zeros(self.max_length - len(labels), dtype=torch.long)])\n",
    "        return {\n",
    "            'input_ids': input_ids,\n",
    "            'attention_mask': attention_mask,\n",
    "            'labels': labels\n",
    "        }\n",
    "\n",
    "    def __len__(self):\n",
    "        return len(self.data_pairs)\n",
    "\n",
    "# Device configuration\n",
    "device = torch.device(\"cuda\" if torch.cuda.is_available() else \"cpu\")\n",
    "\n",
    "# Initialize tokenizer and model\n",
    "tokenizer = T5Tokenizer.from_pretrained(\"t5-small\")\n",
    "model = T5ForConditionalGeneration.from_pretrained(\"t5-small\").to(device)\n",
    "\n",
    "# Load and prepare data\n",
    "file_paths = [\"course_data/contexts_fall2023.json\", \"course_data/contexts_summer2023.json\"]\n",
    "data = []\n",
    "for file_path in file_paths:\n",
    "    with open(file_path, 'r', encoding='utf-8') as f:\n",
    "        data += json.load(f)\n",
    "\n",
    "dataset = TextCompletionDataset(data, tokenizer, max_length=512)\n",
    "dataloader = DataLoader(dataset, batch_size=8, shuffle=True)\n",
    "\n",
    "# Fetch the first data item\n",
    "first_data_item = dataset[0]\n",
    "\n",
    "# Decode tokens to see the actual text\n",
    "input_text = tokenizer.decode(first_data_item['input_ids'], skip_special_tokens=True)\n",
    "expected_output_text = tokenizer.decode(first_data_item['labels'], skip_special_tokens=True)\n",
    "\n",
    "print(\"Input Text:\", input_text)\n",
    "print(\"Expected Output Text:\", expected_output_text)\n",
    "\n",
    "# Training configurations\n",
    "optimizer = torch.optim.AdamW(model.parameters(), lr=0.001) # try .001, 2e-3, 1e-3, changed from 2e-5\n",
    "scheduler = torch.optim.lr_scheduler.StepLR(optimizer, step_size=1, gamma=0.9)\n",
    "scaler = GradScaler()\n",
    "\n",
    "# Training loop\n",
    "num_epochs = 10 # try 10-15\n",
    "model.train()\n",
    "for epoch in range(num_epochs):\n",
    "    total_loss = 0\n",
    "    for batch in dataloader:\n",
    "        batch = {k: v.to(device) for k, v in batch.items()}\n",
    "        optimizer.zero_grad()\n",
    "\n",
    "        with autocast():\n",
    "            outputs = model(**batch)\n",
    "            loss = outputs.loss\n",
    "\n",
    "        scaler.scale(loss).backward()\n",
    "        scaler.step(optimizer)\n",
    "        scaler.update()\n",
    "\n",
    "        total_loss += loss.item()\n",
    "\n",
    "    scheduler.step()\n",
    "    print(f\"Epoch {epoch + 1}, Average Loss: {total_loss / len(dataloader):.4f}\")\n",
    "\n",
    "# Clear up memory\n",
    "torch.cuda.empty_cache()"
   ]
  },
  {
   "cell_type": "code",
   "execution_count": 3,
   "id": "0dbdad91",
   "metadata": {},
   "outputs": [
    {
     "name": "stdout",
     "output_type": "stream",
     "text": [
      "Epoch 1, Average Loss: 0.7029\n",
      "Epoch 2, Average Loss: 0.6799\n",
      "Epoch 3, Average Loss: 0.6577\n",
      "Epoch 4, Average Loss: 0.6384\n",
      "Epoch 5, Average Loss: 0.6217\n",
      "Epoch 6, Average Loss: 0.6010\n",
      "Epoch 7, Average Loss: 0.5877\n",
      "Epoch 8, Average Loss: 0.5777\n",
      "Epoch 9, Average Loss: 0.5641\n",
      "Epoch 10, Average Loss: 0.5545\n"
     ]
    }
   ],
   "source": [
    "# Another training loop for better results\n",
    "for epoch in range(num_epochs):\n",
    "    total_loss = 0\n",
    "    for batch in dataloader:\n",
    "        batch = {k: v.to(device) for k, v in batch.items()}\n",
    "        optimizer.zero_grad()\n",
    "\n",
    "        with autocast():\n",
    "            outputs = model(**batch)\n",
    "            loss = outputs.loss\n",
    "\n",
    "        scaler.scale(loss).backward()\n",
    "        scaler.step(optimizer)\n",
    "        scaler.update()\n",
    "\n",
    "        total_loss += loss.item()\n",
    "\n",
    "    scheduler.step()\n",
    "    print(f\"Epoch {epoch + 1}, Average Loss: {total_loss / len(dataloader):.4f}\")"
   ]
  },
  {
   "cell_type": "code",
   "execution_count": 4,
   "id": "d7eda6a4",
   "metadata": {},
   "outputs": [
    {
     "name": "stdout",
     "output_type": "stream",
     "text": [
      "Input: Homework 1. Question 1: Extracting n-grams from a sentence. Complete the function get_ngrams, which takes a list of strings and an integer n as input, and returns padded n-grams over the list of strings. The result should be a list of Python tuples. For example: >>> get_ngrams([\"natural\",\"language\",\"processing\"],1) [('START',), ('natural',), ('language',), ('processing',), ('STOP',)] >>> get_ngrams([\"natural\",\"language\",\"processing\"],2) ('START', 'natural'), ('natural', 'language'), ('language', 'processing\n",
      "Generated Text: 'language', 'processing'), ('STOP'), 'grading'),'second-to-digital ngrams') n-grams. The result should be a list of integers that result in the tuples. The input will be a string in the filename decoder, which returns the n-words as input and a vector of lengths. Then, by the filename, the filename is the same as the one that used to be. Iterate over the course, we will be able to do so. ['START'], which is the last word in the class. Now we are working with a string-save strings (which should be based on the type of the type get_ngrams used to compute the unigrams for a string (which is a random number of tokens and the last one from a single string. The first entry should be the first one in the list (i.e. the list is a string. Write the constructor. It takes a while. To do this. Write the first, get_n-gram tagged with the tag #, the output should be slightly different. The output should be the one in the file if the first ever. You need to create a new list of tokens. Question 3: The answer is a bingear, which returns a different number of\n"
     ]
    }
   ],
   "source": [
    "def test_t5_model(input_text):\n",
    "    \"\"\"Generates text completion from a given input using the T5 model.\"\"\"\n",
    "    # Encode the input text to tensor of input IDs\n",
    "    encoded_input = tokenizer(input_text, return_tensors=\"pt\", padding=True, truncation=True, max_length=512)\n",
    "    input_ids = encoded_input['input_ids'].to(device)\n",
    "\n",
    "    # Generate outputs using the model\n",
    "    generated_ids = model.generate(\n",
    "        input_ids,\n",
    "        max_length=320,\n",
    "        num_beams=5,\n",
    "        no_repeat_ngram_size=4,\n",
    "        early_stopping=True,\n",
    "        temperature=0.6,\n",
    "        top_k=20,\n",
    "        top_p=0.9\n",
    "    )\n",
    "\n",
    "    # Decode generated ids to text\n",
    "    generated_text = tokenizer.decode(generated_ids[0], skip_special_tokens=True)\n",
    "    return generated_text\n",
    "\n",
    "# Test with some input text\n",
    "input_text = \"\"\"Homework 1. Question 1: Extracting n-grams from a sentence. Complete the function get_ngrams, which takes a list of strings and an integer n as input, and returns padded n-grams over the list of strings. The result should be a list of Python tuples. For example: >>> get_ngrams([\"natural\",\"language\",\"processing\"],1) [('START',), ('natural',), ('language',), ('processing',), ('STOP',)] >>> get_ngrams([\"natural\",\"language\",\"processing\"],2) ('START', 'natural'), ('natural', 'language'), ('language', 'processing\"\"\"\n",
    "\n",
    "# print(f\"Length of input: {len(tokenizer.encode(input_text))}\")\n",
    "\n",
    "generated_text = test_t5_model(input_text)\n",
    "\n",
    "print(\"Input:\", input_text)\n",
    "print(\"Generated Text:\", generated_text)"
   ]
  },
  {
   "cell_type": "code",
   "execution_count": 5,
   "id": "a5e319f1",
   "metadata": {},
   "outputs": [
    {
     "data": {
      "text/plain": [
       "('./trained_completion_model/tokenizer_config.json',\n",
       " './trained_completion_model/special_tokens_map.json',\n",
       " './trained_completion_model/spiece.model',\n",
       " './trained_completion_model/added_tokens.json')"
      ]
     },
     "execution_count": 5,
     "metadata": {},
     "output_type": "execute_result"
    }
   ],
   "source": [
    "# Saving model & tokenizer\n",
    "model.save_pretrained(\"./trained_completion_model\")\n",
    "tokenizer.save_pretrained(\"./trained_completion_model\")"
   ]
  },
  {
   "cell_type": "code",
   "execution_count": null,
   "id": "1b0bcd34",
   "metadata": {},
   "outputs": [],
   "source": [
    "###################"
   ]
  },
  {
   "cell_type": "code",
   "execution_count": 6,
   "id": "61230bc4",
   "metadata": {},
   "outputs": [
    {
     "name": "stdout",
     "output_type": "stream",
     "text": [
      "Requirement already satisfied: txtinstruct in /opt/conda/lib/python3.7/site-packages (0.1.0)\n",
      "Requirement already satisfied: txtai>=5.5.0 in /opt/conda/lib/python3.7/site-packages (from txtinstruct) (5.5.1)\n",
      "Requirement already satisfied: datasets>=2.8.0 in /opt/conda/lib/python3.7/site-packages (from txtinstruct) (2.13.2)\n",
      "Requirement already satisfied: tqdm>=4.48.0 in /opt/conda/lib/python3.7/site-packages (from txtinstruct) (4.62.3)\n",
      "Requirement already satisfied: xxhash in /opt/conda/lib/python3.7/site-packages (from datasets>=2.8.0->txtinstruct) (3.4.1)\n",
      "Requirement already satisfied: aiohttp in /opt/conda/lib/python3.7/site-packages (from datasets>=2.8.0->txtinstruct) (3.8.1)\n",
      "Requirement already satisfied: pyyaml>=5.1 in /opt/conda/lib/python3.7/site-packages (from datasets>=2.8.0->txtinstruct) (6.0)\n",
      "Requirement already satisfied: fsspec[http]>=2021.11.1 in /opt/conda/lib/python3.7/site-packages (from datasets>=2.8.0->txtinstruct) (2022.2.0)\n",
      "Requirement already satisfied: numpy>=1.17 in /opt/conda/lib/python3.7/site-packages (from datasets>=2.8.0->txtinstruct) (1.19.5)\n",
      "Requirement already satisfied: importlib-metadata in /opt/conda/lib/python3.7/site-packages (from datasets>=2.8.0->txtinstruct) (4.11.1)\n",
      "Requirement already satisfied: dill<0.3.7,>=0.3.0 in /opt/conda/lib/python3.7/site-packages (from datasets>=2.8.0->txtinstruct) (0.3.6)\n",
      "Requirement already satisfied: packaging in /opt/conda/lib/python3.7/site-packages (from datasets>=2.8.0->txtinstruct) (21.3)\n",
      "Requirement already satisfied: pyarrow>=8.0.0 in /opt/conda/lib/python3.7/site-packages (from datasets>=2.8.0->txtinstruct) (12.0.1)\n",
      "Requirement already satisfied: pandas in /opt/conda/lib/python3.7/site-packages (from datasets>=2.8.0->txtinstruct) (1.3.5)\n",
      "Requirement already satisfied: requests>=2.19.0 in /opt/conda/lib/python3.7/site-packages (from datasets>=2.8.0->txtinstruct) (2.27.1)\n",
      "Requirement already satisfied: multiprocess in /opt/conda/lib/python3.7/site-packages (from datasets>=2.8.0->txtinstruct) (0.70.14)\n",
      "Requirement already satisfied: huggingface-hub<1.0.0,>=0.11.0 in /opt/conda/lib/python3.7/site-packages (from datasets>=2.8.0->txtinstruct) (0.16.4)\n",
      "Requirement already satisfied: torch>=1.6.0 in /opt/conda/lib/python3.7/site-packages (from txtai>=5.5.0->txtinstruct) (1.10.0)\n",
      "Requirement already satisfied: faiss-cpu>=1.7.1.post2 in /opt/conda/lib/python3.7/site-packages (from txtai>=5.5.0->txtinstruct) (1.7.4)\n",
      "Requirement already satisfied: transformers>=4.22.0 in /opt/conda/lib/python3.7/site-packages (from txtai>=5.5.0->txtinstruct) (4.30.2)\n",
      "Requirement already satisfied: filelock in /opt/conda/lib/python3.7/site-packages (from huggingface-hub<1.0.0,>=0.11.0->datasets>=2.8.0->txtinstruct) (3.12.2)\n",
      "Requirement already satisfied: typing-extensions>=3.7.4.3 in /opt/conda/lib/python3.7/site-packages (from huggingface-hub<1.0.0,>=0.11.0->datasets>=2.8.0->txtinstruct) (4.1.1)\n",
      "Requirement already satisfied: pyparsing!=3.0.5,>=2.0.2 in /opt/conda/lib/python3.7/site-packages (from packaging->datasets>=2.8.0->txtinstruct) (3.0.7)\n",
      "Requirement already satisfied: idna<4,>=2.5 in /opt/conda/lib/python3.7/site-packages (from requests>=2.19.0->datasets>=2.8.0->txtinstruct) (3.3)\n",
      "Requirement already satisfied: urllib3<1.27,>=1.21.1 in /opt/conda/lib/python3.7/site-packages (from requests>=2.19.0->datasets>=2.8.0->txtinstruct) (1.26.8)\n",
      "Requirement already satisfied: charset-normalizer~=2.0.0 in /opt/conda/lib/python3.7/site-packages (from requests>=2.19.0->datasets>=2.8.0->txtinstruct) (2.0.12)\n",
      "Requirement already satisfied: certifi>=2017.4.17 in /opt/conda/lib/python3.7/site-packages (from requests>=2.19.0->datasets>=2.8.0->txtinstruct) (2021.10.8)\n",
      "Requirement already satisfied: regex!=2019.12.17 in /opt/conda/lib/python3.7/site-packages (from transformers>=4.22.0->txtai>=5.5.0->txtinstruct) (2024.4.16)\n",
      "Requirement already satisfied: tokenizers!=0.11.3,<0.14,>=0.11.1 in /opt/conda/lib/python3.7/site-packages (from transformers>=4.22.0->txtai>=5.5.0->txtinstruct) (0.13.3)\n",
      "Requirement already satisfied: safetensors>=0.3.1 in /opt/conda/lib/python3.7/site-packages (from transformers>=4.22.0->txtai>=5.5.0->txtinstruct) (0.4.3)\n",
      "Requirement already satisfied: multidict<7.0,>=4.5 in /opt/conda/lib/python3.7/site-packages (from aiohttp->datasets>=2.8.0->txtinstruct) (6.0.2)\n",
      "Requirement already satisfied: yarl<2.0,>=1.0 in /opt/conda/lib/python3.7/site-packages (from aiohttp->datasets>=2.8.0->txtinstruct) (1.7.2)\n",
      "Requirement already satisfied: asynctest==0.13.0 in /opt/conda/lib/python3.7/site-packages (from aiohttp->datasets>=2.8.0->txtinstruct) (0.13.0)\n",
      "Requirement already satisfied: async-timeout<5.0,>=4.0.0a3 in /opt/conda/lib/python3.7/site-packages (from aiohttp->datasets>=2.8.0->txtinstruct) (4.0.2)\n",
      "Requirement already satisfied: attrs>=17.3.0 in /opt/conda/lib/python3.7/site-packages (from aiohttp->datasets>=2.8.0->txtinstruct) (21.4.0)\n",
      "Requirement already satisfied: frozenlist>=1.1.1 in /opt/conda/lib/python3.7/site-packages (from aiohttp->datasets>=2.8.0->txtinstruct) (1.3.0)\n",
      "Requirement already satisfied: aiosignal>=1.1.2 in /opt/conda/lib/python3.7/site-packages (from aiohttp->datasets>=2.8.0->txtinstruct) (1.2.0)\n",
      "Requirement already satisfied: zipp>=0.5 in /opt/conda/lib/python3.7/site-packages (from importlib-metadata->datasets>=2.8.0->txtinstruct) (3.7.0)\n",
      "Requirement already satisfied: python-dateutil>=2.7.3 in /opt/conda/lib/python3.7/site-packages (from pandas->datasets>=2.8.0->txtinstruct) (2.8.2)\n",
      "Requirement already satisfied: pytz>=2017.3 in /opt/conda/lib/python3.7/site-packages (from pandas->datasets>=2.8.0->txtinstruct) (2021.3)\n",
      "Requirement already satisfied: six>=1.5 in /opt/conda/lib/python3.7/site-packages (from python-dateutil>=2.7.3->pandas->datasets>=2.8.0->txtinstruct) (1.16.0)\n",
      "Requirement already satisfied: transformers[torch] in /opt/conda/lib/python3.7/site-packages (4.30.2)\n",
      "Requirement already satisfied: regex!=2019.12.17 in /opt/conda/lib/python3.7/site-packages (from transformers[torch]) (2024.4.16)\n",
      "Requirement already satisfied: importlib-metadata in /opt/conda/lib/python3.7/site-packages (from transformers[torch]) (4.11.1)\n",
      "Requirement already satisfied: filelock in /opt/conda/lib/python3.7/site-packages (from transformers[torch]) (3.12.2)\n",
      "Requirement already satisfied: tokenizers!=0.11.3,<0.14,>=0.11.1 in /opt/conda/lib/python3.7/site-packages (from transformers[torch]) (0.13.3)\n",
      "Requirement already satisfied: huggingface-hub<1.0,>=0.14.1 in /opt/conda/lib/python3.7/site-packages (from transformers[torch]) (0.16.4)\n",
      "Requirement already satisfied: safetensors>=0.3.1 in /opt/conda/lib/python3.7/site-packages (from transformers[torch]) (0.4.3)\n",
      "Requirement already satisfied: pyyaml>=5.1 in /opt/conda/lib/python3.7/site-packages (from transformers[torch]) (6.0)\n",
      "Requirement already satisfied: packaging>=20.0 in /opt/conda/lib/python3.7/site-packages (from transformers[torch]) (21.3)\n",
      "Requirement already satisfied: numpy>=1.17 in /opt/conda/lib/python3.7/site-packages (from transformers[torch]) (1.19.5)\n",
      "Requirement already satisfied: requests in /opt/conda/lib/python3.7/site-packages (from transformers[torch]) (2.27.1)\n",
      "Requirement already satisfied: tqdm>=4.27 in /opt/conda/lib/python3.7/site-packages (from transformers[torch]) (4.62.3)\n",
      "Requirement already satisfied: torch!=1.12.0,>=1.9 in /opt/conda/lib/python3.7/site-packages (from transformers[torch]) (1.10.0)\n",
      "Requirement already satisfied: accelerate>=0.20.2 in /opt/conda/lib/python3.7/site-packages (from transformers[torch]) (0.20.3)\n",
      "Requirement already satisfied: psutil in /opt/conda/lib/python3.7/site-packages (from accelerate>=0.20.2->transformers[torch]) (5.9.0)\n",
      "Requirement already satisfied: fsspec in /opt/conda/lib/python3.7/site-packages (from huggingface-hub<1.0,>=0.14.1->transformers[torch]) (2022.2.0)\n",
      "Requirement already satisfied: typing-extensions>=3.7.4.3 in /opt/conda/lib/python3.7/site-packages (from huggingface-hub<1.0,>=0.14.1->transformers[torch]) (4.1.1)\n",
      "Requirement already satisfied: pyparsing!=3.0.5,>=2.0.2 in /opt/conda/lib/python3.7/site-packages (from packaging>=20.0->transformers[torch]) (3.0.7)\n",
      "Requirement already satisfied: zipp>=0.5 in /opt/conda/lib/python3.7/site-packages (from importlib-metadata->transformers[torch]) (3.7.0)\n",
      "Requirement already satisfied: urllib3<1.27,>=1.21.1 in /opt/conda/lib/python3.7/site-packages (from requests->transformers[torch]) (1.26.8)\n",
      "Requirement already satisfied: charset-normalizer~=2.0.0 in /opt/conda/lib/python3.7/site-packages (from requests->transformers[torch]) (2.0.12)\n",
      "Requirement already satisfied: idna<4,>=2.5 in /opt/conda/lib/python3.7/site-packages (from requests->transformers[torch]) (3.3)\n",
      "Requirement already satisfied: certifi>=2017.4.17 in /opt/conda/lib/python3.7/site-packages (from requests->transformers[torch]) (2021.10.8)\n",
      "Requirement already satisfied: accelerate in /opt/conda/lib/python3.7/site-packages (0.20.3)\n",
      "Requirement already satisfied: pyyaml in /opt/conda/lib/python3.7/site-packages (from accelerate) (6.0)\n",
      "Requirement already satisfied: numpy>=1.17 in /opt/conda/lib/python3.7/site-packages (from accelerate) (1.19.5)\n",
      "Requirement already satisfied: psutil in /opt/conda/lib/python3.7/site-packages (from accelerate) (5.9.0)\n",
      "Requirement already satisfied: packaging>=20.0 in /opt/conda/lib/python3.7/site-packages (from accelerate) (21.3)\n",
      "Requirement already satisfied: torch>=1.6.0 in /opt/conda/lib/python3.7/site-packages (from accelerate) (1.10.0)\n",
      "Requirement already satisfied: pyparsing!=3.0.5,>=2.0.2 in /opt/conda/lib/python3.7/site-packages (from packaging>=20.0->accelerate) (3.0.7)\n",
      "Requirement already satisfied: typing_extensions in /opt/conda/lib/python3.7/site-packages (from torch>=1.6.0->accelerate) (4.1.1)\n"
     ]
    }
   ],
   "source": [
    "!pip install txtinstruct\n",
    "!pip install transformers[torch]\n",
    "!pip install accelerate -U"
   ]
  },
  {
   "cell_type": "code",
   "execution_count": 7,
   "id": "f277d890",
   "metadata": {},
   "outputs": [],
   "source": [
    "import json\n",
    "from txtinstruct.models import Instructor\n",
    "import torch\n",
    "import os\n",
    "from txtai.embeddings import Embeddings"
   ]
  },
  {
   "cell_type": "code",
   "execution_count": 8,
   "id": "f2f6905e",
   "metadata": {},
   "outputs": [
    {
     "name": "stdout",
     "output_type": "stream",
     "text": [
      "Loaded 20 items from merged_data.json\n"
     ]
    },
    {
     "data": {
      "application/vnd.jupyter.widget-view+json": {
       "model_id": "d89d954f54bc4e80b7b3e2c718f4f021",
       "version_major": 2,
       "version_minor": 0
      },
      "text/plain": [
       "Fetching 5 files:   0%|          | 0/5 [00:00<?, ?it/s]"
      ]
     },
     "metadata": {},
     "output_type": "display_data"
    }
   ],
   "source": [
    "# Load data\n",
    "data = []\n",
    "file_path = 'merged_data.json'  # Load all cleaned edstem_data json files\n",
    "with open(file_path, encoding=\"utf-8\") as f:\n",
    "    data += json.load(f)\n",
    "\n",
    "# Verify that data is loaded correctly and not empty\n",
    "print(f\"Loaded {len(data)} items from {file_path}\")\n",
    "\n",
    "# Initialize the Instructor\n",
    "instructor = Instructor()\n",
    "\n",
    "# Load embeddings\n",
    "embeddings = Embeddings()\n",
    "embeddings.load(provider=\"huggingface-hub\", container=\"neuml/txtai-wikipedia\")"
   ]
  },
  {
   "cell_type": "code",
   "execution_count": 15,
   "id": "a5405d28",
   "metadata": {},
   "outputs": [
    {
     "name": "stderr",
     "output_type": "stream",
     "text": [
      "Found cached dataset generator (/home/mz2822/.cache/huggingface/datasets/generator/default-bf2e4fbe7f1e5595/0.0.0)\n",
      "Loading cached processed dataset at /home/mz2822/.cache/huggingface/datasets/generator/default-bf2e4fbe7f1e5595/0.0.0/cache-4bd07289314bd20c.arrow\n",
      "You're using a T5TokenizerFast tokenizer. Please note that with a fast tokenizer, using the `__call__` method is faster than using a method to encode the text followed by a call to the `pad` method to get a padded encoding.\n"
     ]
    },
    {
     "data": {
      "text/html": [
       "\n",
       "    <div>\n",
       "      \n",
       "      <progress value='2480' max='2480' style='width:300px; height:20px; vertical-align: middle;'></progress>\n",
       "      [2480/2480 59:45, Epoch 79/80]\n",
       "    </div>\n",
       "    <table border=\"1\" class=\"dataframe\">\n",
       "  <thead>\n",
       " <tr style=\"text-align: left;\">\n",
       "      <th>Step</th>\n",
       "      <th>Training Loss</th>\n",
       "    </tr>\n",
       "  </thead>\n",
       "  <tbody>\n",
       "    <tr>\n",
       "      <td>100</td>\n",
       "      <td>3.764100</td>\n",
       "    </tr>\n",
       "    <tr>\n",
       "      <td>200</td>\n",
       "      <td>3.218300</td>\n",
       "    </tr>\n",
       "    <tr>\n",
       "      <td>300</td>\n",
       "      <td>2.872200</td>\n",
       "    </tr>\n",
       "    <tr>\n",
       "      <td>400</td>\n",
       "      <td>2.603500</td>\n",
       "    </tr>\n",
       "    <tr>\n",
       "      <td>500</td>\n",
       "      <td>2.373300</td>\n",
       "    </tr>\n",
       "    <tr>\n",
       "      <td>600</td>\n",
       "      <td>2.167800</td>\n",
       "    </tr>\n",
       "    <tr>\n",
       "      <td>700</td>\n",
       "      <td>2.005600</td>\n",
       "    </tr>\n",
       "    <tr>\n",
       "      <td>800</td>\n",
       "      <td>1.855500</td>\n",
       "    </tr>\n",
       "    <tr>\n",
       "      <td>900</td>\n",
       "      <td>1.732500</td>\n",
       "    </tr>\n",
       "    <tr>\n",
       "      <td>1000</td>\n",
       "      <td>1.611300</td>\n",
       "    </tr>\n",
       "    <tr>\n",
       "      <td>1100</td>\n",
       "      <td>1.497400</td>\n",
       "    </tr>\n",
       "    <tr>\n",
       "      <td>1200</td>\n",
       "      <td>1.403900</td>\n",
       "    </tr>\n",
       "    <tr>\n",
       "      <td>1300</td>\n",
       "      <td>1.311700</td>\n",
       "    </tr>\n",
       "    <tr>\n",
       "      <td>1400</td>\n",
       "      <td>1.229500</td>\n",
       "    </tr>\n",
       "    <tr>\n",
       "      <td>1500</td>\n",
       "      <td>1.175900</td>\n",
       "    </tr>\n",
       "    <tr>\n",
       "      <td>1600</td>\n",
       "      <td>1.107000</td>\n",
       "    </tr>\n",
       "    <tr>\n",
       "      <td>1700</td>\n",
       "      <td>1.054800</td>\n",
       "    </tr>\n",
       "    <tr>\n",
       "      <td>1800</td>\n",
       "      <td>1.016100</td>\n",
       "    </tr>\n",
       "    <tr>\n",
       "      <td>1900</td>\n",
       "      <td>0.974600</td>\n",
       "    </tr>\n",
       "    <tr>\n",
       "      <td>2000</td>\n",
       "      <td>0.929900</td>\n",
       "    </tr>\n",
       "    <tr>\n",
       "      <td>2100</td>\n",
       "      <td>0.903900</td>\n",
       "    </tr>\n",
       "    <tr>\n",
       "      <td>2200</td>\n",
       "      <td>0.872200</td>\n",
       "    </tr>\n",
       "    <tr>\n",
       "      <td>2300</td>\n",
       "      <td>0.861800</td>\n",
       "    </tr>\n",
       "    <tr>\n",
       "      <td>2400</td>\n",
       "      <td>0.852800</td>\n",
       "    </tr>\n",
       "  </tbody>\n",
       "</table><p>"
      ],
      "text/plain": [
       "<IPython.core.display.HTML object>"
      ]
     },
     "metadata": {},
     "output_type": "display_data"
    }
   ],
   "source": [
    "# Call the Instructor with appropriate arguments\n",
    "model, tokenizer = instructor(\n",
    "    output_dir=\"./trained_model\",\n",
    "    optim=\"adamw_torch\",\n",
    "    base=\"./trained_completion_model\", # Base model\n",
    "    data=data, # Instruction-tuning dataset loaded from the JSON file\n",
    "    task=\"sequence-sequence\", # Model task\n",
    "    learning_rate=5e-4, # Changed from 1e-3, 2e-4\n",
    "    per_device_train_batch_size=8, # Changed from 4\n",
    "    gradient_accumulation_steps=4, # Changed from 128 // 8, 32, 16\n",
    "    num_train_epochs=80, # Changed from 30\n",
    "    logging_steps=100,\n",
    ")\n",
    "tokenizer.model_max_length = 1024 # Set max input size (default is 512)"
   ]
  },
  {
   "cell_type": "code",
   "execution_count": 16,
   "id": "a4f0bec9",
   "metadata": {},
   "outputs": [
    {
     "data": {
      "text/plain": [
       "('./trained_model/tokenizer_config.json',\n",
       " './trained_model/special_tokens_map.json',\n",
       " './trained_model/spiece.model',\n",
       " './trained_model/added_tokens.json',\n",
       " './trained_model/tokenizer.json')"
      ]
     },
     "execution_count": 16,
     "metadata": {},
     "output_type": "execute_result"
    }
   ],
   "source": [
    "path = \"./trained_model\"\n",
    "model.save_pretrained(path)\n",
    "tokenizer.save_pretrained(path)"
   ]
  },
  {
   "cell_type": "code",
   "execution_count": 17,
   "id": "3d2eb07b",
   "metadata": {},
   "outputs": [],
   "source": [
    "# Testing\n",
    "from txtai.pipeline import Extractor\n",
    "from txtai.pipeline import Sequences\n",
    "\n",
    "# # Load statement generation model\n",
    "# statements = Sequences((model, tokenizer))\n",
    "\n",
    "def prompt(query):\n",
    "    template = (\"Answer the following question using only the context below. \"\n",
    "                \"Say 'I don't have data on that' when the question can't be answered.\\n\"\n",
    "                f\"Question: {query}\\n\"\n",
    "                \"Context: The assignment focuses on n-gram extraction/counting. \"\n",
    "                \"For Part 1, `get_ngrams` needs to generate padded n-grams from strings. \"\n",
    "                \"Part 2 involves counting n-grams within two datasets, primarily the Brown corpus, \"\n",
    "                \"using a lexicon for unseen words, marked as 'UNK'. The `TrigramModel` is initialized \"\n",
    "                \"with a corpus file for lexicon collection and n-gram counting. `count_ngrams` updates \"\n",
    "                \"frequency dictionaries for unigrams, bigrams, and trigrams. The process accommodates unseen words \"\n",
    "                \"and efficient reading, with model testing done via `brown_test.txt` for perplexity evaluation.\")\n",
    "    return template\n",
    "\n",
    "question = (\"Homework 1 Question 6. Do we need to count the word 1 more than each sentence \"\n",
    "            \"when computing perplexity? Because I think there will be a hiding STOP \"\n",
    "            \"for each sentence. So the total word tokens is the words in document plus \"\n",
    "            \"number of sentences. Am I understanding this correctly?\")"
   ]
  },
  {
   "cell_type": "code",
   "execution_count": 18,
   "id": "571a04f3",
   "metadata": {},
   "outputs": [
    {
     "name": "stderr",
     "output_type": "stream",
     "text": [
      "Token indices sequence length is longer than the specified maximum sequence length for this model (586 > 512). Running this sequence through the model will result in indexing errors\n"
     ]
    },
    {
     "data": {
      "text/plain": [
       "[{'answer': 'Yes'}]"
      ]
     },
     "execution_count": 18,
     "metadata": {},
     "output_type": "execute_result"
    }
   ],
   "source": [
    "# Testing without the model\n",
    "extractor = Extractor(\n",
    "    embeddings,\n",
    "    Sequences(\"google/flan-t5-small\")  # allenai/longformer-base-4096\n",
    ")\n",
    "\n",
    "extractor([{\n",
    "    \"query\": f\"{question}\",\n",
    "    \"question\": prompt(f\"{question}\")\n",
    "}])"
   ]
  },
  {
   "cell_type": "code",
   "execution_count": 19,
   "id": "d70818fe",
   "metadata": {
    "lines_to_next_cell": 0
   },
   "outputs": [
    {
     "data": {
      "text/plain": [
       "[{'answer': 'You need to include the STOP (or dictionary name) in the sentence. The lexicon is a set of words that appear in the lexicon. The corpus reader automatically selects the most likely \"unigram\" symbol. So it will be counted on the total number of words.'}]"
      ]
     },
     "execution_count": 19,
     "metadata": {},
     "output_type": "execute_result"
    }
   ],
   "source": [
    "# Testing with the model\n",
    "extractor = Extractor(\n",
    "    embeddings,\n",
    "    Sequences((model, tokenizer))\n",
    ")\n",
    "\n",
    "extractor([{\n",
    "    \"query\": f\"{question}\",\n",
    "    \"question\": prompt(f\"{question}\")\n",
    "}])"
   ]
  },
  {
   "cell_type": "code",
   "execution_count": null,
   "id": "b293c173",
   "metadata": {},
   "outputs": [],
   "source": []
  }
 ],
 "metadata": {
  "jupytext": {
   "cell_metadata_filter": "-all",
   "notebook_metadata_filter": "-all"
  },
  "kernelspec": {
   "display_name": "Python 3",
   "language": "python",
   "name": "python3"
  },
  "language_info": {
   "codemirror_mode": {
    "name": "ipython",
    "version": 3
   },
   "file_extension": ".py",
   "mimetype": "text/x-python",
   "name": "python",
   "nbconvert_exporter": "python",
   "pygments_lexer": "ipython3",
   "version": "3.7.12"
  }
 },
 "nbformat": 4,
 "nbformat_minor": 5
}
